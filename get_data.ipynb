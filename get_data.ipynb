{
 "cells": [
  {
   "cell_type": "code",
   "execution_count": 4,
   "id": "81660aa6",
   "metadata": {},
   "outputs": [],
   "source": [
    "import pickle\n",
    "import pprint\n",
    "from utils.parse import get_match_links, get_match, get_response\n",
    "from tqdm import tqdm"
   ]
  },
  {
   "cell_type": "code",
   "execution_count": 5,
   "id": "09a57f68",
   "metadata": {},
   "outputs": [],
   "source": [
    "links = get_match_links(range(1,10))"
   ]
  },
  {
   "cell_type": "code",
   "execution_count": 6,
   "id": "bf16a44b",
   "metadata": {},
   "outputs": [
    {
     "name": "stderr",
     "output_type": "stream",
     "text": [
      "100%|███████████████████████████████████████████████████████████████████████████████████████████████████████████████████████████████████████████████████████████████████████████████████████████████████████████████████████| 216/216 [02:59<00:00,  1.20it/s]\n"
     ]
    }
   ],
   "source": [
    "matches = []\n",
    "for link in tqdm(links):\n",
    "    match = get_match(get_response(link))\n",
    "    if match:\n",
    "        matches.append(match)"
   ]
  },
  {
   "cell_type": "code",
   "execution_count": 7,
   "id": "756577ec",
   "metadata": {},
   "outputs": [
    {
     "data": {
      "text/plain": [
       "207"
      ]
     },
     "execution_count": 7,
     "metadata": {},
     "output_type": "execute_result"
    }
   ],
   "source": [
    "len(matches)"
   ]
  },
  {
   "cell_type": "code",
   "execution_count": 10,
   "id": "d46daaf1",
   "metadata": {},
   "outputs": [],
   "source": [
    "with open('data/18.08-3.09.pkl',\"wb\") as f:\n",
    "    pickle.dump(matches, f)"
   ]
  },
  {
   "cell_type": "code",
   "execution_count": 11,
   "id": "e163696e",
   "metadata": {},
   "outputs": [
    {
     "name": "stdout",
     "output_type": "stream",
     "text": [
      "{'date': '2021-09-02',\n",
      " 'location': 'Southeast Asia',\n",
      " 'maps': [{'bans': {0: ['Omniknight',\n",
      "                        'Keeper of the Light',\n",
      "                        'Razor',\n",
      "                        'Phantom Lancer',\n",
      "                        'Death Prophet',\n",
      "                        'Faceless Void',\n",
      "                        'Riki'],\n",
      "                    1: ['Clinkz',\n",
      "                        'Pangolier',\n",
      "                        'Lifestealer',\n",
      "                        'Luna',\n",
      "                        'Batrider',\n",
      "                        'Mars',\n",
      "                        'Viper']},\n",
      "           'picks': {0: ['Monkey King',\n",
      "                         'Kunkka',\n",
      "                         'Vengeful Spirit',\n",
      "                         'Shadow Demon',\n",
      "                         'Clockwerk'],\n",
      "                     1: ['Lion',\n",
      "                         'Snapfire',\n",
      "                         'Phantom Assassin',\n",
      "                         'Invoker',\n",
      "                         'Timbersaw']},\n",
      "           'winner': 0},\n",
      "          {'bans': {0: ['Omniknight',\n",
      "                        'Nyx Assassin',\n",
      "                        'Storm Spirit',\n",
      "                        'Phantom Lancer',\n",
      "                        'Faceless Void',\n",
      "                        'Death Prophet',\n",
      "                        'Leshrac'],\n",
      "                    1: ['Clinkz',\n",
      "                        'Pangolier',\n",
      "                        'Lifestealer',\n",
      "                        'Luna',\n",
      "                        'Monkey King',\n",
      "                        'Viper',\n",
      "                        'Meepo']},\n",
      "           'picks': {0: ['Juggernaut',\n",
      "                         'Windranger',\n",
      "                         'Night Stalker',\n",
      "                         'Keeper of the Light',\n",
      "                         'Ogre Magi'],\n",
      "                     1: ['Lion',\n",
      "                         'Templar Assassin',\n",
      "                         'Oracle',\n",
      "                         'Brewmaster',\n",
      "                         'Ursa']},\n",
      "           'winner': 0}],\n",
      " 'teams': [{'county': 'Indonesia', 'team': 'AG'},\n",
      "           {'county': 'Indonesia', 'team': 'R5'}]}\n"
     ]
    }
   ],
   "source": [
    "pprint.pprint(matches[0])"
   ]
  }
 ],
 "metadata": {
  "kernelspec": {
   "display_name": "Python 3 (ipykernel)",
   "language": "python",
   "name": "python3"
  },
  "language_info": {
   "codemirror_mode": {
    "name": "ipython",
    "version": 3
   },
   "file_extension": ".py",
   "mimetype": "text/x-python",
   "name": "python",
   "nbconvert_exporter": "python",
   "pygments_lexer": "ipython3",
   "version": "3.8.5"
  }
 },
 "nbformat": 4,
 "nbformat_minor": 5
}
