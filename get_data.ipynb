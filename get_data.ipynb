{
 "cells": [
  {
   "cell_type": "code",
   "execution_count": 25,
   "id": "93151282",
   "metadata": {},
   "outputs": [],
   "source": [
    "import pprint\n",
    "from tqdm import tqdm\n",
    "\n",
    "from dota.parse import get_match_links, get_match, get_response\n",
    "from dota.persistence import save, load\n",
    "from dota.data import default_name"
   ]
  },
  {
   "cell_type": "raw",
   "id": "920b0a01",
   "metadata": {},
   "source": [
    "links = get_match_links(range(1, 30))\n",
    "\n",
    "matches = []\n",
    "for link in tqdm(links):\n",
    "    match = get_match(get_response(link))\n",
    "    if match:\n",
    "        matches.append(match)"
   ]
  },
  {
   "cell_type": "code",
   "execution_count": 20,
   "id": "928d3ec9",
   "metadata": {},
   "outputs": [],
   "source": [
    "matches = load('data/18.08-3.09.pkl')"
   ]
  },
  {
   "cell_type": "code",
   "execution_count": 23,
   "id": "9f314020",
   "metadata": {},
   "outputs": [],
   "source": [
    "for i, match in enumerate(matches):\n",
    "    for k, map_ in enumerate(match['maps']):\n",
    "        for stage in ['picks', 'bans']:\n",
    "            for h in range(2):\n",
    "                for j, hero in enumerate(map_[stage][h]):\n",
    "                    hero = default_name(hero)\n",
    "                    if hero.startswith('natur'):\n",
    "                        hero = \"natures-prophet\"\n",
    "                    elif hero == 'outworld-devourer':\n",
    "                        hero = 'outworld-destroyer'\n",
    "                    elif hero == 'spiritbreaker':\n",
    "                        hero = 'spirit-breaker'\n",
    "                        \n",
    "                    matches[i]['maps'][k][stage][h][j] = hero"
   ]
  },
  {
   "cell_type": "raw",
   "id": "4cb17ad8",
   "metadata": {},
   "source": [
    "save(matches, 'data/18.08-3.09_lower.pkl')"
   ]
  },
  {
   "cell_type": "code",
   "execution_count": 16,
   "id": "5490685a",
   "metadata": {},
   "outputs": [
    {
     "name": "stdout",
     "output_type": "stream",
     "text": [
      "{'date': '2021-09-02',\n",
      " 'location': 'Southeast Asia',\n",
      " 'maps': [{'bans': {0: ['Omniknight',\n",
      "                        'Keeper of the Light',\n",
      "                        'Razor',\n",
      "                        'Phantom Lancer',\n",
      "                        'Death Prophet',\n",
      "                        'Faceless Void',\n",
      "                        'Riki'],\n",
      "                    1: ['Clinkz',\n",
      "                        'Pangolier',\n",
      "                        'Lifestealer',\n",
      "                        'Luna',\n",
      "                        'Batrider',\n",
      "                        'Mars',\n",
      "                        'Viper']},\n",
      "           'picks': {0: ['Monkey King',\n",
      "                         'Kunkka',\n",
      "                         'Vengeful Spirit',\n",
      "                         'Shadow Demon',\n",
      "                         'Clockwerk'],\n",
      "                     1: ['Lion',\n",
      "                         'Snapfire',\n",
      "                         'Phantom Assassin',\n",
      "                         'Invoker',\n",
      "                         'Timbersaw']},\n",
      "           'winner': 0},\n",
      "          {'bans': {0: ['Omniknight',\n",
      "                        'Nyx Assassin',\n",
      "                        'Storm Spirit',\n",
      "                        'Phantom Lancer',\n",
      "                        'Faceless Void',\n",
      "                        'Death Prophet',\n",
      "                        'Leshrac'],\n",
      "                    1: ['Clinkz',\n",
      "                        'Pangolier',\n",
      "                        'Lifestealer',\n",
      "                        'Luna',\n",
      "                        'Monkey King',\n",
      "                        'Viper',\n",
      "                        'Meepo']},\n",
      "           'picks': {0: ['Juggernaut',\n",
      "                         'Windranger',\n",
      "                         'Night Stalker',\n",
      "                         'Keeper of the Light',\n",
      "                         'Ogre Magi'],\n",
      "                     1: ['Lion',\n",
      "                         'Templar Assassin',\n",
      "                         'Oracle',\n",
      "                         'Brewmaster',\n",
      "                         'Ursa']},\n",
      "           'winner': 0}],\n",
      " 'teams': [{'county': 'Indonesia', 'team': 'AG'},\n",
      "           {'county': 'Indonesia', 'team': 'R5'}]}\n"
     ]
    }
   ],
   "source": [
    "pprint.pprint(matches[0])"
   ]
  },
  {
   "cell_type": "code",
   "execution_count": null,
   "id": "78fd6f21",
   "metadata": {},
   "outputs": [],
   "source": []
  }
 ],
 "metadata": {
  "kernelspec": {
   "display_name": "Python 3 (ipykernel)",
   "language": "python",
   "name": "python3"
  },
  "language_info": {
   "codemirror_mode": {
    "name": "ipython",
    "version": 3
   },
   "file_extension": ".py",
   "mimetype": "text/x-python",
   "name": "python",
   "nbconvert_exporter": "python",
   "pygments_lexer": "ipython3",
   "version": "3.8.5"
  }
 },
 "nbformat": 4,
 "nbformat_minor": 5
}
