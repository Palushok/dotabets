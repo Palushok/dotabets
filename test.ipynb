{
 "cells": [
  {
   "cell_type": "code",
   "execution_count": 5,
   "id": "2396c794",
   "metadata": {},
   "outputs": [],
   "source": [
    "import pprint\n",
    "from parse import get_match, get_response"
   ]
  },
  {
   "cell_type": "code",
   "execution_count": 2,
   "id": "db76b9f3",
   "metadata": {},
   "outputs": [],
   "source": [
    "href = 'https://www.joindota.com/matches/467547-meraki-vs-interitus'\n",
    "response = get_response(href)"
   ]
  },
  {
   "cell_type": "code",
   "execution_count": 3,
   "id": "f47ae835",
   "metadata": {},
   "outputs": [],
   "source": [
    "match = get_match(response)"
   ]
  },
  {
   "cell_type": "code",
   "execution_count": 6,
   "id": "f08122f7",
   "metadata": {},
   "outputs": [
    {
     "name": "stdout",
     "output_type": "stream",
     "text": [
      "{'maps': [{'bans': {0: ['Nyx Assassin',\n",
      "                        'Omniknight',\n",
      "                        'Razor',\n",
      "                        'Storm Spirit',\n",
      "                        'Ember Spirit',\n",
      "                        'Slark',\n",
      "                        'Monkey King'],\n",
      "                    1: ['Tiny',\n",
      "                        'Underlord',\n",
      "                        'Anti-Mage',\n",
      "                        'Lina',\n",
      "                        'Faceless Void',\n",
      "                        'Viper',\n",
      "                        'Beastmaster']},\n",
      "           'picks': {0: ['Sven', 'Leshrac', 'Batrider', 'Abaddon', 'Hoodwink'],\n",
      "                     1: ['Ogre Magi',\n",
      "                         'Void Spirit',\n",
      "                         'Sand King',\n",
      "                         'Keeper of the Light',\n",
      "                         'Medusa']},\n",
      "           'winner': 0},\n",
      "          {'bans': {0: ['Nyx Assassin',\n",
      "                        'Mars',\n",
      "                        'Razor',\n",
      "                        'Storm Spirit',\n",
      "                        'Ember Spirit',\n",
      "                        'Medusa',\n",
      "                        'Arc Warden'],\n",
      "                    1: ['Keeper of the Light',\n",
      "                        'Omniknight',\n",
      "                        'Sven',\n",
      "                        'Luna',\n",
      "                        'Lina',\n",
      "                        'Troll Warlord',\n",
      "                        'Terrorblade']},\n",
      "           'picks': {0: ['Puck',\n",
      "                         'Phantom Assassin',\n",
      "                         'Bloodseeker',\n",
      "                         'Vengeful Spirit',\n",
      "                         'Hoodwink'],\n",
      "                     1: ['Oracle',\n",
      "                         'Leshrac',\n",
      "                         'Beastmaster',\n",
      "                         'Pangolier',\n",
      "                         'Monkey King']},\n",
      "           'winner': 1},\n",
      "          {'bans': {0: ['Nyx Assassin',\n",
      "                        'Omniknight',\n",
      "                        'Razor',\n",
      "                        'Storm Spirit',\n",
      "                        'Ember Spirit',\n",
      "                        'Medusa',\n",
      "                        'Faceless Void'],\n",
      "                    1: ['Hoodwink',\n",
      "                        'Keeper of the Light',\n",
      "                        'Bloodseeker',\n",
      "                        'Lina',\n",
      "                        'Underlord',\n",
      "                        'Batrider',\n",
      "                        'Kunkka']},\n",
      "           'picks': {0: ['Puck', 'Abaddon', 'Sven', 'Earth Spirit', 'Leshrac'],\n",
      "                     1: ['Oracle',\n",
      "                         'Invoker',\n",
      "                         'Dark Seer',\n",
      "                         'Pangolier',\n",
      "                         'Slark']},\n",
      "           'winner': 0}],\n",
      " 'teams': ['Meraki', 'Inter']}\n"
     ]
    }
   ],
   "source": [
    "pprint.pprint(match)"
   ]
  },
  {
   "cell_type": "code",
   "execution_count": null,
   "id": "25102170",
   "metadata": {},
   "outputs": [],
   "source": []
  }
 ],
 "metadata": {
  "kernelspec": {
   "display_name": "Python 3 (ipykernel)",
   "language": "python",
   "name": "python3"
  },
  "language_info": {
   "codemirror_mode": {
    "name": "ipython",
    "version": 3
   },
   "file_extension": ".py",
   "mimetype": "text/x-python",
   "name": "python",
   "nbconvert_exporter": "python",
   "pygments_lexer": "ipython3",
   "version": "3.8.5"
  }
 },
 "nbformat": 4,
 "nbformat_minor": 5
}
