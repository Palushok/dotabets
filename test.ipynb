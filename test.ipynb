{
 "cells": [
  {
   "cell_type": "code",
   "execution_count": 1,
   "id": "54841c54",
   "metadata": {},
   "outputs": [],
   "source": [
    "import pprint\n",
    "from parse import get_match, get_response"
   ]
  },
  {
   "cell_type": "code",
   "execution_count": 5,
   "id": "5092bdb9",
   "metadata": {},
   "outputs": [],
   "source": [
    "href = 'https://www.joindota.com/matches/465419-fantastic-five-vs-nemiga-gaming'\n",
    "response = get_response(href)"
   ]
  },
  {
   "cell_type": "code",
   "execution_count": 6,
   "id": "4c7985f0",
   "metadata": {},
   "outputs": [],
   "source": [
    "match = get_match(response)"
   ]
  },
  {
   "cell_type": "code",
   "execution_count": 7,
   "id": "373e6d47",
   "metadata": {},
   "outputs": [
    {
     "name": "stdout",
     "output_type": "stream",
     "text": [
      "{'location': 'Europe/CIS',\n",
      " 'maps': [{'bans': {0: ['Night Stalker',\n",
      "                        'Clinkz',\n",
      "                        'Troll Warlord',\n",
      "                        'Luna',\n",
      "                        'Slark',\n",
      "                        'Winter Wyvern',\n",
      "                        'Disruptor'],\n",
      "                    1: ['Pangolier',\n",
      "                        'Keeper of the Light',\n",
      "                        'Puck',\n",
      "                        'Bloodseeker',\n",
      "                        'Tidehunter',\n",
      "                        'Invoker',\n",
      "                        'Void Spirit']},\n",
      "           'picks': {0: ['Sven',\n",
      "                         'Omniknight',\n",
      "                         'Mars',\n",
      "                         'Earth Spirit',\n",
      "                         'Rubick'],\n",
      "                     1: ['Beastmaster',\n",
      "                         'Queen of Pain',\n",
      "                         'Alchemist',\n",
      "                         'Lina',\n",
      "                         'Shadow Demon']},\n",
      "           'winner': 1},\n",
      "          {'bans': {0: ['Lina',\n",
      "                        'Beastmaster',\n",
      "                        'Mars',\n",
      "                        'Luna',\n",
      "                        'Faceless Void',\n",
      "                        'Bloodseeker',\n",
      "                        'Tidehunter'],\n",
      "                    1: ['Keeper of the Light',\n",
      "                        'Omniknight',\n",
      "                        'Lifestealer',\n",
      "                        'Puck',\n",
      "                        'Slark',\n",
      "                        'Invoker',\n",
      "                        'Void Spirit']},\n",
      "           'picks': {0: ['Weaver',\n",
      "                         'Treant Protector',\n",
      "                         'Night Stalker',\n",
      "                         'Storm Spirit',\n",
      "                         'Mirana'],\n",
      "                     1: ['Pangolier',\n",
      "                         'Batrider',\n",
      "                         'Clinkz',\n",
      "                         'Phoenix',\n",
      "                         'Disruptor']},\n",
      "           'winner': 0},\n",
      "          {'bans': {0: ['Lina',\n",
      "                        'Beastmaster',\n",
      "                        'Faceless Void',\n",
      "                        'Batrider',\n",
      "                        'Phantom Lancer',\n",
      "                        'Lycan',\n",
      "                        'Legion Commander'],\n",
      "                    1: ['Night Stalker',\n",
      "                        'Omniknight',\n",
      "                        'Ember Spirit',\n",
      "                        'Treant Protector',\n",
      "                        'Bloodseeker',\n",
      "                        'Invoker',\n",
      "                        'Puck']},\n",
      "           'picks': {0: ['Clinkz',\n",
      "                         'Clockwerk',\n",
      "                         'Tiny',\n",
      "                         'Sand King',\n",
      "                         'Keeper of the Light'],\n",
      "                     1: ['Pangolier',\n",
      "                         'Queen of Pain',\n",
      "                         'Sven',\n",
      "                         'Skywrath Mage',\n",
      "                         'Nyx Assassin']},\n",
      "           'winner': 1}],\n",
      " 'teams': [{'county': 'CIS', 'team': 'F5'},\n",
      "           {'county': 'Belarus', 'team': 'Nemiga'}]}\n"
     ]
    }
   ],
   "source": [
    "pprint.pprint(match)"
   ]
  },
  {
   "cell_type": "code",
   "execution_count": null,
   "id": "e92d7b5a",
   "metadata": {},
   "outputs": [],
   "source": []
  }
 ],
 "metadata": {
  "kernelspec": {
   "display_name": "Python 3 (ipykernel)",
   "language": "python",
   "name": "python3"
  },
  "language_info": {
   "codemirror_mode": {
    "name": "ipython",
    "version": 3
   },
   "file_extension": ".py",
   "mimetype": "text/x-python",
   "name": "python",
   "nbconvert_exporter": "python",
   "pygments_lexer": "ipython3",
   "version": "3.8.5"
  }
 },
 "nbformat": 4,
 "nbformat_minor": 5
}
