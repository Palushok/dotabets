{
 "cells": [
  {
   "cell_type": "code",
   "execution_count": 61,
   "id": "40650ea9",
   "metadata": {},
   "outputs": [],
   "source": [
    "import pickle\n",
    "import pandas as pd\n",
    "import numpy as np\n",
    "from dota.persistence import load, save\n",
    "from dota.data import json_to_dataframe"
   ]
  },
  {
   "cell_type": "code",
   "execution_count": 62,
   "id": "49e7b2b9",
   "metadata": {},
   "outputs": [],
   "source": [
    "data = load('data/18.08-3.09.pkl')\n",
    "# data = load('data/all_shit.pkl')"
   ]
  },
  {
   "cell_type": "code",
   "execution_count": 63,
   "id": "90a3771e",
   "metadata": {},
   "outputs": [],
   "source": [
    "df = json_to_dataframe(data)"
   ]
  },
  {
   "cell_type": "code",
   "execution_count": 64,
   "id": "94f69df0",
   "metadata": {},
   "outputs": [],
   "source": [
    "def split_picks_bans(df):\n",
    "    df_picks_0 = df['picks_0'].apply(pd.Series)\n",
    "    df_picks_0.columns = [f'pick_0_{x}' for x in range(1, 6)]\n",
    "\n",
    "    df_picks_1 = df['picks_1'].apply(pd.Series)\n",
    "    df_picks_1.columns = [f'pick_1_{x}' for x in range(1, 6)]\n",
    "\n",
    "\n",
    "    df_bans_0 = df['bans_0'].apply(pd.Series)\n",
    "    df_bans_0.columns = [f'ban_0_{x}' for x in range(1, 8)]\n",
    "\n",
    "    df_bans_1 = df['bans_1'].apply(pd.Series)\n",
    "    df_bans_1.columns = [f'ban_1_{x}' for x in range(1, 8)]\n",
    "    \n",
    "    return pd.concat([df_picks_0, df_picks_1, df_bans_0, df_bans_1], axis=1)\n",
    "    "
   ]
  },
  {
   "cell_type": "code",
   "execution_count": 65,
   "id": "b62310a9",
   "metadata": {},
   "outputs": [],
   "source": [
    "def get_all_heroes(df_heroes):\n",
    "    all_heroes = set(df_heroes.stack().tolist())\n",
    "    all_heroes.remove('')\n",
    "    return sorted(all_heroes)"
   ]
  },
  {
   "cell_type": "code",
   "execution_count": 66,
   "id": "3ef362f9",
   "metadata": {},
   "outputs": [],
   "source": [
    "class FewHotEncoder:\n",
    "    def __init__(self, words):\n",
    "        self.list_of_words = sorted(set(words))\n",
    "        self.empty_array = np.zeros(len(self.list_of_words))\n",
    "    \n",
    "    def encode(self, words):\n",
    "        encoded = self.empty_array.copy()\n",
    "        for word in words:\n",
    "            encoded[self.list_of_words.index(word)] = 1\n",
    "        return encoded\n",
    "            "
   ]
  },
  {
   "cell_type": "code",
   "execution_count": 67,
   "id": "e47e284c",
   "metadata": {},
   "outputs": [],
   "source": [
    "picks_bans_df = split_picks_bans(df)\n",
    "all_heroes = get_all_heroes(picks_bans_df)\n",
    "\n",
    "enc = FewHotEncoder(all_heroes)"
   ]
  },
  {
   "cell_type": "raw",
   "id": "0e3d36a4",
   "metadata": {},
   "source": [
    "all_heroes = np.array(all_heroes)"
   ]
  },
  {
   "cell_type": "code",
   "execution_count": 68,
   "id": "f2af4e23",
   "metadata": {},
   "outputs": [],
   "source": [
    "encoded_picks_0 = df.picks_0.apply(lambda x: enc.encode(x).astype(int))\n",
    "encoded_picks_1 = df.picks_1.apply(lambda x: enc.encode(x).astype(int))\n",
    "\n",
    "encoded_picks = encoded_picks_0 - encoded_picks_1\n",
    "encoded_picks = list(encoded_picks.apply(list))\n",
    "encoded_picks = pd.DataFrame(encoded_picks)"
   ]
  },
  {
   "cell_type": "code",
   "execution_count": 69,
   "id": "efe521e0",
   "metadata": {},
   "outputs": [],
   "source": [
    "df = df.drop(columns=['picks_0', 'picks_1', 'bans_0', 'bans_1'])"
   ]
  },
  {
   "cell_type": "code",
   "execution_count": 70,
   "id": "b95c1fa7",
   "metadata": {},
   "outputs": [],
   "source": [
    "df = pd.concat([df, encoded_picks], axis=1)"
   ]
  },
  {
   "cell_type": "code",
   "execution_count": 71,
   "id": "ef81e43a",
   "metadata": {},
   "outputs": [],
   "source": [
    "X = df.drop(columns=['location',      'date',    'team_0',    'team_1', 'country_0',\n",
    "       'country_1',    'winner', ])"
   ]
  },
  {
   "cell_type": "code",
   "execution_count": 72,
   "id": "0a663576",
   "metadata": {},
   "outputs": [],
   "source": [
    "Y = df.winner"
   ]
  },
  {
   "cell_type": "code",
   "execution_count": 73,
   "id": "86de02e7",
   "metadata": {},
   "outputs": [],
   "source": [
    "X = pd.concat([X, X * (-1)])"
   ]
  },
  {
   "cell_type": "code",
   "execution_count": 74,
   "id": "a1cd6d4d",
   "metadata": {},
   "outputs": [],
   "source": [
    "Y = pd.concat([Y, 1-Y])"
   ]
  },
  {
   "cell_type": "code",
   "execution_count": 16,
   "id": "c7c506cc",
   "metadata": {},
   "outputs": [],
   "source": [
    "from sklearn.metrics import mean_squared_error\n",
    "import lightgbm as lgb"
   ]
  },
  {
   "cell_type": "code",
   "execution_count": 28,
   "id": "d7332856",
   "metadata": {},
   "outputs": [],
   "source": [
    "from sklearn.model_selection import train_test_split\n",
    "from sklearn.metrics import accuracy_score"
   ]
  },
  {
   "cell_type": "code",
   "execution_count": 18,
   "id": "4b44d2ec",
   "metadata": {},
   "outputs": [],
   "source": [
    "X_train, X_test, y_train, y_test = train_test_split(X, Y, test_size=0.2, random_state=42)"
   ]
  },
  {
   "cell_type": "code",
   "execution_count": 75,
   "id": "f60ea747",
   "metadata": {},
   "outputs": [
    {
     "name": "stderr",
     "output_type": "stream",
     "text": [
      "/home/dpaluhin/.local/lib/python3.8/site-packages/xgboost/sklearn.py:1146: UserWarning: The use of label encoder in XGBClassifier is deprecated and will be removed in a future release. To remove this warning, do the following: 1) Pass option use_label_encoder=False when constructing XGBClassifier object; and 2) Encode your labels (y) as integers starting with 0, i.e. 0, 1, 2, ..., [num_class - 1].\n",
      "  warnings.warn(label_encoder_deprecation_msg, UserWarning)\n"
     ]
    },
    {
     "name": "stdout",
     "output_type": "stream",
     "text": [
      "[23:35:02] WARNING: ../src/learner.cc:1095: Starting in XGBoost 1.3.0, the default evaluation metric used with the objective 'binary:logistic' was changed from 'error' to 'logloss'. Explicitly set eval_metric if you'd like to restore the old behavior.\n"
     ]
    },
    {
     "name": "stderr",
     "output_type": "stream",
     "text": [
      "/home/dpaluhin/.local/lib/python3.8/site-packages/xgboost/sklearn.py:1146: UserWarning: The use of label encoder in XGBClassifier is deprecated and will be removed in a future release. To remove this warning, do the following: 1) Pass option use_label_encoder=False when constructing XGBClassifier object; and 2) Encode your labels (y) as integers starting with 0, i.e. 0, 1, 2, ..., [num_class - 1].\n",
      "  warnings.warn(label_encoder_deprecation_msg, UserWarning)\n"
     ]
    },
    {
     "name": "stdout",
     "output_type": "stream",
     "text": [
      "[23:35:04] WARNING: ../src/learner.cc:1095: Starting in XGBoost 1.3.0, the default evaluation metric used with the objective 'binary:logistic' was changed from 'error' to 'logloss'. Explicitly set eval_metric if you'd like to restore the old behavior.\n"
     ]
    },
    {
     "name": "stderr",
     "output_type": "stream",
     "text": [
      "/home/dpaluhin/.local/lib/python3.8/site-packages/xgboost/sklearn.py:1146: UserWarning: The use of label encoder in XGBClassifier is deprecated and will be removed in a future release. To remove this warning, do the following: 1) Pass option use_label_encoder=False when constructing XGBClassifier object; and 2) Encode your labels (y) as integers starting with 0, i.e. 0, 1, 2, ..., [num_class - 1].\n",
      "  warnings.warn(label_encoder_deprecation_msg, UserWarning)\n"
     ]
    },
    {
     "name": "stdout",
     "output_type": "stream",
     "text": [
      "[23:35:06] WARNING: ../src/learner.cc:1095: Starting in XGBoost 1.3.0, the default evaluation metric used with the objective 'binary:logistic' was changed from 'error' to 'logloss'. Explicitly set eval_metric if you'd like to restore the old behavior.\n"
     ]
    },
    {
     "name": "stderr",
     "output_type": "stream",
     "text": [
      "/home/dpaluhin/.local/lib/python3.8/site-packages/xgboost/sklearn.py:1146: UserWarning: The use of label encoder in XGBClassifier is deprecated and will be removed in a future release. To remove this warning, do the following: 1) Pass option use_label_encoder=False when constructing XGBClassifier object; and 2) Encode your labels (y) as integers starting with 0, i.e. 0, 1, 2, ..., [num_class - 1].\n",
      "  warnings.warn(label_encoder_deprecation_msg, UserWarning)\n"
     ]
    },
    {
     "name": "stdout",
     "output_type": "stream",
     "text": [
      "[23:35:10] WARNING: ../src/learner.cc:1095: Starting in XGBoost 1.3.0, the default evaluation metric used with the objective 'binary:logistic' was changed from 'error' to 'logloss'. Explicitly set eval_metric if you'd like to restore the old behavior.\n"
     ]
    },
    {
     "name": "stderr",
     "output_type": "stream",
     "text": [
      "/home/dpaluhin/.local/lib/python3.8/site-packages/xgboost/sklearn.py:1146: UserWarning: The use of label encoder in XGBClassifier is deprecated and will be removed in a future release. To remove this warning, do the following: 1) Pass option use_label_encoder=False when constructing XGBClassifier object; and 2) Encode your labels (y) as integers starting with 0, i.e. 0, 1, 2, ..., [num_class - 1].\n",
      "  warnings.warn(label_encoder_deprecation_msg, UserWarning)\n"
     ]
    },
    {
     "name": "stdout",
     "output_type": "stream",
     "text": [
      "[23:35:12] WARNING: ../src/learner.cc:1095: Starting in XGBoost 1.3.0, the default evaluation metric used with the objective 'binary:logistic' was changed from 'error' to 'logloss'. Explicitly set eval_metric if you'd like to restore the old behavior.\n"
     ]
    },
    {
     "data": {
      "text/plain": [
       "array([0.51630435, 0.5923913 , 0.57608696, 0.53551913, 0.58469945])"
      ]
     },
     "execution_count": 75,
     "metadata": {},
     "output_type": "execute_result"
    }
   ],
   "source": [
    "import xgboost as xgb\n",
    "from sklearn.model_selection import cross_val_score\n",
    "import pandas as pd\n",
    "import numpy as np\n",
    "\n",
    "cross_val_score(estimator=xgb.XGBClassifier(), X=X, y=Y,\n",
    "                cv=5, scoring='accuracy')"
   ]
  },
  {
   "cell_type": "code",
   "execution_count": 77,
   "id": "3d07cdde",
   "metadata": {},
   "outputs": [
    {
     "data": {
      "text/plain": [
       "0.561000238"
      ]
     },
     "execution_count": 77,
     "metadata": {},
     "output_type": "execute_result"
    }
   ],
   "source": [
    "np.mean([0.51630435, 0.5923913 , 0.57608696, 0.53551913, 0.58469945])"
   ]
  },
  {
   "cell_type": "raw",
   "id": "189e953e",
   "metadata": {},
   "source": [
    "#TODO\n",
    "Заванходить location, придумать, че делать со странами. Скорее всего нужен словарь страна: регион. Но вопрос, че делать с WORLD. Надо глянуть, сколько их и как это влияет на общую выборку. "
   ]
  }
 ],
 "metadata": {
  "kernelspec": {
   "display_name": "Python 3 (ipykernel)",
   "language": "python",
   "name": "python3"
  },
  "language_info": {
   "codemirror_mode": {
    "name": "ipython",
    "version": 3
   },
   "file_extension": ".py",
   "mimetype": "text/x-python",
   "name": "python",
   "nbconvert_exporter": "python",
   "pygments_lexer": "ipython3",
   "version": "3.8.5"
  }
 },
 "nbformat": 4,
 "nbformat_minor": 5
}
