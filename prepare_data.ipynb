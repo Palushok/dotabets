{
 "cells": [
  {
   "cell_type": "code",
   "execution_count": null,
   "metadata": {},
   "outputs": [],
   "source": [
    "import pickle\n",
    "import pandas as pd\n",
    "import numpy as np"
   ]
  },
  {
   "cell_type": "code",
   "execution_count": null,
   "metadata": {},
   "outputs": [],
   "source": [
    "with open('data/18.08-3.09.pkl', 'rb') as f:\n",
    "    data = pickle.load(f)"
   ]
  },
  {
   "cell_type": "code",
   "execution_count": null,
   "metadata": {},
   "outputs": [],
   "source": [
    "data_dict = {}\n",
    "idx = 0\n",
    "for match in data:\n",
    "    location = match['location']\n",
    "    date = match['date']\n",
    "    teams = []\n",
    "    teams = match['teams']\n",
    "    team_0 = teams[0]['team']\n",
    "    country_0 = teams[0]['county']\n",
    "    team_1 = teams[1]['team']\n",
    "    country_1 = teams[1]['county']\n",
    "    for game in match['maps']:\n",
    "        picks_0 = game['picks'][0]\n",
    "        picks_1 = game['picks'][1]\n",
    "        bans_0 = game['bans'][0]\n",
    "        bans_1 = game['bans'][1]\n",
    "        winner = game['winner']\n",
    "        data_dict[idx] = {\n",
    "            'location': location,\n",
    "            'team_0': team_0,\n",
    "            'team_1': team_1,\n",
    "            'country_0': country_0,\n",
    "            'country_1': country_1,\n",
    "            'picks_0': picks_0,\n",
    "            'bans_0': bans_0,\n",
    "            'picks_1': picks_1,\n",
    "            'bans_1': bans_1,\n",
    "            'winner': winner\n",
    "        }\n",
    "        idx += 1\n",
    "        \n",
    "df = pd.DataFrame.from_dict(data_dict, orient='index')"
   ]
  },
  {
   "cell_type": "code",
   "execution_count": null,
   "metadata": {},
   "outputs": [],
   "source": [
    "df = df[df.picks_0.apply(lambda x: '' not in x)].reset_index(drop=True)"
   ]
  },
  {
   "cell_type": "code",
   "execution_count": null,
   "metadata": {},
   "outputs": [],
   "source": [
    "len(df)"
   ]
  },
  {
   "cell_type": "code",
   "execution_count": null,
   "metadata": {},
   "outputs": [],
   "source": [
    "df_picks_0 = df['picks_0'].apply(pd.Series)\n",
    "df_picks_0.columns = [f'pick_0_{x}' for x in range(1, 6)]\n",
    "\n",
    "df_picks_1 = df['picks_1'].apply(pd.Series)\n",
    "df_picks_1.columns = [f'pick_1_{x}' for x in range(1, 6)]\n",
    "\n",
    "\n",
    "df_bans_0 = df['bans_0'].apply(pd.Series)\n",
    "df_bans_0.columns = [f'ban_0_{x}' for x in range(1, 8)]\n",
    "\n",
    "\n",
    "df_bans_1 = df['bans_1'].apply(pd.Series)\n",
    "df_bans_1.columns = [f'ban_1_{x}' for x in range(1, 8)]"
   ]
  },
  {
   "cell_type": "code",
   "execution_count": null,
   "metadata": {},
   "outputs": [],
   "source": [
    "df = pd.concat([df.drop(columns=['winner']), df_picks_0, df_picks_1, df_bans_0, df_bans_1, df['winner']], axis=1)"
   ]
  },
  {
   "cell_type": "code",
   "execution_count": null,
   "metadata": {},
   "outputs": [],
   "source": [
    "df_heroes = pd.concat([df_picks_0, df_picks_1, df_bans_0, df_bans_1], axis=1)\n",
    "all_heroes = set(df_heroes.stack().tolist())\n",
    "all_heroes.remove('')\n",
    "all_heroes = sorted(all_heroes)\n",
    "\n",
    "del(df_heroes)"
   ]
  },
  {
   "cell_type": "code",
   "execution_count": null,
   "metadata": {},
   "outputs": [],
   "source": [
    "class FewHotEncoder:\n",
    "    \n",
    "    def __init__(self, words):\n",
    "        self.list_of_words = sorted(set(words))\n",
    "        self.empty_array = np.zeros(len(self.list_of_words))\n",
    "    \n",
    "    def encode(self, words):\n",
    "        encoded = self.empty_array.copy()\n",
    "        for word in words:\n",
    "            encoded[self.list_of_words.index(word)] = 1\n",
    "        return encoded\n",
    "            "
   ]
  },
  {
   "cell_type": "code",
   "execution_count": null,
   "metadata": {},
   "outputs": [],
   "source": [
    "enc = FewHotEncoder(all_heroes)"
   ]
  },
  {
   "cell_type": "code",
   "execution_count": null,
   "metadata": {},
   "outputs": [],
   "source": [
    "all_heroes = np.array(all_heroes)"
   ]
  },
  {
   "cell_type": "code",
   "execution_count": null,
   "metadata": {},
   "outputs": [],
   "source": [
    "encoded_picks_0 = df.picks_0.apply(lambda x: enc.encode(x).astype(int))\n",
    "encoded_picks_1 = df.picks_1.apply(lambda x: enc.encode(x).astype(int))\n",
    "\n",
    "encoded_picks = encoded_picks_0 - encoded_picks_1\n",
    "encoded_picks = list(encoded_picks.apply(list))\n",
    "encoded_picks = pd.DataFrame(encoded_picks)"
   ]
  },
  {
   "cell_type": "code",
   "execution_count": null,
   "metadata": {},
   "outputs": [],
   "source": [
    "len(encoded_picks)"
   ]
  },
  {
   "cell_type": "code",
   "execution_count": null,
   "metadata": {},
   "outputs": [],
   "source": [
    "df = df.drop(columns=['picks_0', 'picks_1', 'bans_0', 'bans_1'])"
   ]
  },
  {
   "cell_type": "code",
   "execution_count": null,
   "metadata": {},
   "outputs": [],
   "source": [
    "df = pd.concat([df, encoded_picks], axis=1)"
   ]
  },
  {
   "cell_type": "code",
   "execution_count": null,
   "metadata": {},
   "outputs": [],
   "source": [
    "df.location.unique()"
   ]
  },
  {
   "cell_type": "code",
   "execution_count": null,
   "metadata": {},
   "outputs": [],
   "source": [
    "df.head()"
   ]
  },
  {
   "cell_type": "code",
   "execution_count": null,
   "metadata": {},
   "outputs": [],
   "source": [
    "df.country_0.unique()"
   ]
  },
  {
   "cell_type": "raw",
   "metadata": {},
   "source": [
    "#TODO\n",
    "Заванходить location, придумать, че делать со странами. Скорее всего нужен словарь страна: регион. Но вопрос, че делать с WORLD. Надо глянуть, сколько их и как это влияет на общую выборку. "
   ]
  }
 ],
 "metadata": {
  "kernelspec": {
   "display_name": "Python 3",
   "language": "python",
   "name": "python3"
  },
  "language_info": {
   "codemirror_mode": {
    "name": "ipython",
    "version": 3
   },
   "file_extension": ".py",
   "mimetype": "text/x-python",
   "name": "python",
   "nbconvert_exporter": "python",
   "pygments_lexer": "ipython3",
   "version": "3.7.4"
  }
 },
 "nbformat": 4,
 "nbformat_minor": 5
}
