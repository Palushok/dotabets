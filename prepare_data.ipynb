{
 "cells": [
  {
   "cell_type": "code",
   "execution_count": 238,
   "id": "7a70fcbb",
   "metadata": {},
   "outputs": [],
   "source": [
    "import pickle\n",
    "import pandas as pd\n",
    "import numpy as np"
   ]
  },
  {
   "cell_type": "code",
   "execution_count": 239,
   "id": "639a4bdd",
   "metadata": {},
   "outputs": [],
   "source": [
    "with open('data/18.08-3.09.pkl', 'rb') as f:\n",
    "    data = pickle.load(f)"
   ]
  },
  {
   "cell_type": "code",
   "execution_count": 240,
   "id": "0c6c723d",
   "metadata": {},
   "outputs": [],
   "source": [
    "data_dict = {}\n",
    "idx = 0\n",
    "for match in data:\n",
    "    location = match['location']\n",
    "    date = match['date']\n",
    "    teams = []\n",
    "    teams = match['teams']\n",
    "    team_0 = teams[0]['team']\n",
    "    country_0 = teams[0]['county']\n",
    "    team_1 = teams[1]['team']\n",
    "    country_1 = teams[1]['county']\n",
    "    for game in match['maps']:\n",
    "        picks_0 = game['picks'][0]\n",
    "        picks_1 = game['picks'][1]\n",
    "        bans_0 = game['bans'][0]\n",
    "        bans_1 = game['bans'][1]\n",
    "        winner = game['winner']\n",
    "        data_dict[idx] = {\n",
    "            'location': location,\n",
    "            'team_0': team_0,\n",
    "            'team_1': team_1,\n",
    "            'country_0': country_0,\n",
    "            'country_1': country_1,\n",
    "            'picks_0': picks_0,\n",
    "            'bans_0': bans_0,\n",
    "            'picks_1': picks_1,\n",
    "            'bans_1': bans_1,\n",
    "            'winner': winner\n",
    "        }\n",
    "        idx += 1\n",
    "        \n",
    "df = pd.DataFrame.from_dict(data_dict, orient='index')"
   ]
  },
  {
   "cell_type": "code",
   "execution_count": 241,
   "id": "6abba3d4",
   "metadata": {},
   "outputs": [],
   "source": [
    "df = df[df.picks_0.apply(lambda x: '' not in x)].reset_index(drop=True)"
   ]
  },
  {
   "cell_type": "code",
   "execution_count": 242,
   "id": "96c02734",
   "metadata": {},
   "outputs": [
    {
     "data": {
      "text/plain": [
       "459"
      ]
     },
     "execution_count": 242,
     "metadata": {},
     "output_type": "execute_result"
    }
   ],
   "source": [
    "len(df)"
   ]
  },
  {
   "cell_type": "raw",
   "id": "947a307b",
   "metadata": {},
   "source": [
    "df_picks_0 = df['picks_0'].apply(pd.Series)\n",
    "df_picks_0.columns = [f'pick_0_{x}' for x in range(1, 6)]\n",
    "\n",
    "df_picks_1 = df['picks_1'].apply(pd.Series)\n",
    "df_picks_1.columns = [f'pick_1_{x}' for x in range(1, 6)]\n",
    "\n",
    "\n",
    "df_bans_0 = df['bans_0'].apply(pd.Series)\n",
    "df_bans_0.columns = [f'ban_0_{x}' for x in range(1, 8)]\n",
    "\n",
    "\n",
    "df_bans_1 = df['bans_1'].apply(pd.Series)\n",
    "df_bans_1.columns = [f'ban_1_{x}' for x in range(1, 8)]"
   ]
  },
  {
   "cell_type": "raw",
   "id": "51b629b5",
   "metadata": {},
   "source": [
    "df = pd.concat([df.drop(columns=['winner']), df_picks_0, df_picks_1, df_bans_0, df_bans_1, df['winner']], axis=1)"
   ]
  },
  {
   "cell_type": "code",
   "execution_count": 243,
   "id": "1956f5e3",
   "metadata": {},
   "outputs": [],
   "source": [
    "df_heroes = pd.concat([df_picks_0, df_picks_1, df_bans_0, df_bans_1], axis=1)\n",
    "all_heroes = set(df_heroes.stack().tolist())\n",
    "all_heroes.remove('')\n",
    "all_heroes = sorted(all_heroes)\n",
    "\n",
    "del(df_heroes)"
   ]
  },
  {
   "cell_type": "code",
   "execution_count": 244,
   "id": "3dfb7af4",
   "metadata": {},
   "outputs": [],
   "source": [
    "class FewHotEncoder:\n",
    "    def __init__(self, words):\n",
    "        self.list_of_words = sorted(set(words))\n",
    "        self.empty_array = np.zeros(len(self.list_of_words))\n",
    "    def encode(self, words):\n",
    "        encoded = self.empty_array.copy()\n",
    "        for word in words:\n",
    "            encoded[self.list_of_words.index(word)] = 1\n",
    "        return encoded\n",
    "            "
   ]
  },
  {
   "cell_type": "code",
   "execution_count": 245,
   "id": "c357a4bc",
   "metadata": {},
   "outputs": [],
   "source": [
    "enc = FewHotEncoder(all_heroes)"
   ]
  },
  {
   "cell_type": "code",
   "execution_count": 246,
   "id": "067d4fa8",
   "metadata": {},
   "outputs": [],
   "source": [
    "all_heroes = np.array(all_heroes)"
   ]
  },
  {
   "cell_type": "code",
   "execution_count": 247,
   "id": "19f30d1d",
   "metadata": {},
   "outputs": [],
   "source": [
    "encoded_picks_0 = df.picks_0.apply(lambda x: enc.encode(x).astype(int))\n",
    "encoded_picks_1 = df.picks_1.apply(lambda x: enc.encode(x).astype(int))\n",
    "\n",
    "encoded_picks = encoded_picks_0 - encoded_picks_1\n",
    "encoded_picks = list(encoded_picks.apply(list))\n",
    "encoded_picks = pd.DataFrame(encoded_picks)"
   ]
  },
  {
   "cell_type": "code",
   "execution_count": 248,
   "id": "cc00f7df",
   "metadata": {},
   "outputs": [
    {
     "data": {
      "text/plain": [
       "459"
      ]
     },
     "execution_count": 248,
     "metadata": {},
     "output_type": "execute_result"
    }
   ],
   "source": [
    "len(encoded_picks)"
   ]
  },
  {
   "cell_type": "code",
   "execution_count": 249,
   "id": "ffbd47b3",
   "metadata": {},
   "outputs": [],
   "source": [
    "df = df.drop(columns=['picks_0', 'picks_1', 'bans_0', 'bans_1'])"
   ]
  },
  {
   "cell_type": "code",
   "execution_count": 251,
   "id": "62d4d2be",
   "metadata": {},
   "outputs": [],
   "source": [
    "df = pd.concat([df, encoded_picks], axis=1)"
   ]
  },
  {
   "cell_type": "code",
   "execution_count": 252,
   "id": "be32984e",
   "metadata": {},
   "outputs": [
    {
     "data": {
      "text/plain": [
       "array(['Southeast Asia', 'South America', 'Europe/CIS', 'China', 'Asia',\n",
       "       '', 'Americas'], dtype=object)"
      ]
     },
     "execution_count": 252,
     "metadata": {},
     "output_type": "execute_result"
    }
   ],
   "source": [
    "df.location.unique()"
   ]
  },
  {
   "cell_type": "code",
   "execution_count": 254,
   "id": "3a3ead2a",
   "metadata": {},
   "outputs": [
    {
     "data": {
      "text/html": [
       "<div>\n",
       "<style scoped>\n",
       "    .dataframe tbody tr th:only-of-type {\n",
       "        vertical-align: middle;\n",
       "    }\n",
       "\n",
       "    .dataframe tbody tr th {\n",
       "        vertical-align: top;\n",
       "    }\n",
       "\n",
       "    .dataframe thead th {\n",
       "        text-align: right;\n",
       "    }\n",
       "</style>\n",
       "<table border=\"1\" class=\"dataframe\">\n",
       "  <thead>\n",
       "    <tr style=\"text-align: right;\">\n",
       "      <th></th>\n",
       "      <th>location</th>\n",
       "      <th>team_0</th>\n",
       "      <th>team_1</th>\n",
       "      <th>country_0</th>\n",
       "      <th>country_1</th>\n",
       "      <th>winner</th>\n",
       "      <th>0</th>\n",
       "      <th>1</th>\n",
       "      <th>2</th>\n",
       "      <th>3</th>\n",
       "      <th>...</th>\n",
       "      <th>108</th>\n",
       "      <th>109</th>\n",
       "      <th>110</th>\n",
       "      <th>111</th>\n",
       "      <th>112</th>\n",
       "      <th>113</th>\n",
       "      <th>114</th>\n",
       "      <th>115</th>\n",
       "      <th>116</th>\n",
       "      <th>117</th>\n",
       "    </tr>\n",
       "  </thead>\n",
       "  <tbody>\n",
       "    <tr>\n",
       "      <th>0</th>\n",
       "      <td>Southeast Asia</td>\n",
       "      <td>AG</td>\n",
       "      <td>R5</td>\n",
       "      <td>Indonesia</td>\n",
       "      <td>Indonesia</td>\n",
       "      <td>0</td>\n",
       "      <td>0</td>\n",
       "      <td>0</td>\n",
       "      <td>0</td>\n",
       "      <td>0</td>\n",
       "      <td>...</td>\n",
       "      <td>0</td>\n",
       "      <td>0</td>\n",
       "      <td>0</td>\n",
       "      <td>0</td>\n",
       "      <td>0</td>\n",
       "      <td>0</td>\n",
       "      <td>0</td>\n",
       "      <td>0</td>\n",
       "      <td>0</td>\n",
       "      <td>0</td>\n",
       "    </tr>\n",
       "    <tr>\n",
       "      <th>1</th>\n",
       "      <td>Southeast Asia</td>\n",
       "      <td>AG</td>\n",
       "      <td>R5</td>\n",
       "      <td>Indonesia</td>\n",
       "      <td>Indonesia</td>\n",
       "      <td>0</td>\n",
       "      <td>0</td>\n",
       "      <td>0</td>\n",
       "      <td>0</td>\n",
       "      <td>0</td>\n",
       "      <td>...</td>\n",
       "      <td>0</td>\n",
       "      <td>0</td>\n",
       "      <td>0</td>\n",
       "      <td>0</td>\n",
       "      <td>0</td>\n",
       "      <td>1</td>\n",
       "      <td>0</td>\n",
       "      <td>0</td>\n",
       "      <td>0</td>\n",
       "      <td>0</td>\n",
       "    </tr>\n",
       "    <tr>\n",
       "      <th>2</th>\n",
       "      <td>South America</td>\n",
       "      <td>Inter</td>\n",
       "      <td>BINO</td>\n",
       "      <td>Brazil</td>\n",
       "      <td>Brazil</td>\n",
       "      <td>1</td>\n",
       "      <td>1</td>\n",
       "      <td>0</td>\n",
       "      <td>0</td>\n",
       "      <td>0</td>\n",
       "      <td>...</td>\n",
       "      <td>0</td>\n",
       "      <td>0</td>\n",
       "      <td>0</td>\n",
       "      <td>0</td>\n",
       "      <td>0</td>\n",
       "      <td>0</td>\n",
       "      <td>0</td>\n",
       "      <td>0</td>\n",
       "      <td>0</td>\n",
       "      <td>0</td>\n",
       "    </tr>\n",
       "    <tr>\n",
       "      <th>3</th>\n",
       "      <td>South America</td>\n",
       "      <td>Inter</td>\n",
       "      <td>BINO</td>\n",
       "      <td>Brazil</td>\n",
       "      <td>Brazil</td>\n",
       "      <td>1</td>\n",
       "      <td>0</td>\n",
       "      <td>0</td>\n",
       "      <td>0</td>\n",
       "      <td>0</td>\n",
       "      <td>...</td>\n",
       "      <td>0</td>\n",
       "      <td>0</td>\n",
       "      <td>0</td>\n",
       "      <td>0</td>\n",
       "      <td>0</td>\n",
       "      <td>0</td>\n",
       "      <td>0</td>\n",
       "      <td>0</td>\n",
       "      <td>0</td>\n",
       "      <td>0</td>\n",
       "    </tr>\n",
       "    <tr>\n",
       "      <th>4</th>\n",
       "      <td>Europe/CIS</td>\n",
       "      <td>Unique</td>\n",
       "      <td>SPigz</td>\n",
       "      <td>CIS</td>\n",
       "      <td>Europe</td>\n",
       "      <td>1</td>\n",
       "      <td>0</td>\n",
       "      <td>0</td>\n",
       "      <td>0</td>\n",
       "      <td>0</td>\n",
       "      <td>...</td>\n",
       "      <td>0</td>\n",
       "      <td>-1</td>\n",
       "      <td>0</td>\n",
       "      <td>0</td>\n",
       "      <td>0</td>\n",
       "      <td>0</td>\n",
       "      <td>1</td>\n",
       "      <td>0</td>\n",
       "      <td>0</td>\n",
       "      <td>0</td>\n",
       "    </tr>\n",
       "  </tbody>\n",
       "</table>\n",
       "<p>5 rows × 124 columns</p>\n",
       "</div>"
      ],
      "text/plain": [
       "         location  team_0 team_1  country_0  country_1  winner  0  1  2  3  \\\n",
       "0  Southeast Asia      AG     R5  Indonesia  Indonesia       0  0  0  0  0   \n",
       "1  Southeast Asia      AG     R5  Indonesia  Indonesia       0  0  0  0  0   \n",
       "2   South America   Inter   BINO     Brazil     Brazil       1  1  0  0  0   \n",
       "3   South America   Inter   BINO     Brazil     Brazil       1  0  0  0  0   \n",
       "4      Europe/CIS  Unique  SPigz        CIS     Europe       1  0  0  0  0   \n",
       "\n",
       "   ...  108  109  110  111  112  113  114  115  116  117  \n",
       "0  ...    0    0    0    0    0    0    0    0    0    0  \n",
       "1  ...    0    0    0    0    0    1    0    0    0    0  \n",
       "2  ...    0    0    0    0    0    0    0    0    0    0  \n",
       "3  ...    0    0    0    0    0    0    0    0    0    0  \n",
       "4  ...    0   -1    0    0    0    0    1    0    0    0  \n",
       "\n",
       "[5 rows x 124 columns]"
      ]
     },
     "execution_count": 254,
     "metadata": {},
     "output_type": "execute_result"
    }
   ],
   "source": [
    "df.head()"
   ]
  },
  {
   "cell_type": "code",
   "execution_count": 253,
   "id": "a451e30d",
   "metadata": {},
   "outputs": [
    {
     "data": {
      "text/plain": [
       "array(['Indonesia', 'Brazil', 'CIS', 'Peru', 'Philippines', 'Russia',\n",
       "       'Belarus', 'China', 'Malaysia', 'Myanmar', 'Thailand',\n",
       "       'Kazakhstan', 'Europe', 'North America', 'World', 'Sweden', 'USA',\n",
       "       'South Korea', 'Mongolia'], dtype=object)"
      ]
     },
     "execution_count": 253,
     "metadata": {},
     "output_type": "execute_result"
    }
   ],
   "source": [
    "df.country_0.unique()"
   ]
  },
  {
   "cell_type": "raw",
   "id": "2e5e8661",
   "metadata": {},
   "source": [
    "#TODO\n",
    "Заванходить location, придумать, че делать со странами. Скорее всего нужен словарь страна: регион. Но вопрос, че делать с WORLD. Надо глянуть, сколько их и как это влияет на общую выборку. "
   ]
  }
 ],
 "metadata": {
  "kernelspec": {
   "display_name": "Python 3 (ipykernel)",
   "language": "python",
   "name": "python3"
  },
  "language_info": {
   "codemirror_mode": {
    "name": "ipython",
    "version": 3
   },
   "file_extension": ".py",
   "mimetype": "text/x-python",
   "name": "python",
   "nbconvert_exporter": "python",
   "pygments_lexer": "ipython3",
   "version": "3.8.5"
  }
 },
 "nbformat": 4,
 "nbformat_minor": 5
}
