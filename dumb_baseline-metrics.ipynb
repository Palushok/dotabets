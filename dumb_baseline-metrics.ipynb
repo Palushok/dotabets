{
 "cells": [
  {
   "cell_type": "markdown",
   "metadata": {},
   "source": [
    "# Imports"
   ]
  },
  {
   "cell_type": "code",
   "execution_count": 198,
   "metadata": {},
   "outputs": [],
   "source": [
    "from dota.persistence import load\n",
    "from dota.data import json_to_dataframe\n",
    "\n",
    "from functools import partial\n",
    "import pandas as pd"
   ]
  },
  {
   "cell_type": "code",
   "execution_count": 199,
   "metadata": {},
   "outputs": [],
   "source": [
    "def damped_mean(series, group_size=100, dump_value=0.5):\n",
    "    return (series.mean()*len(series) + group_size*dump_value) / (len(series) + group_size)"
   ]
  },
  {
   "cell_type": "raw",
   "metadata": {},
   "source": [
    "class DumbPriorClassifier:\n",
    "    \n",
    "    def __init__(self, damping=True, damp_group_size=5, dump_value=0.5):\n",
    "        self.priors = {}\n",
    "        if damping:\n",
    "            self.agg_func = partial(damped_mean, \n",
    "                                    group_size=damp_group_size, \n",
    "                                    dump_value=dump_value)\n",
    "        else:\n",
    "            self.agg_func = 'mean'\n",
    "    \n",
    "    def fit(self, df, target):\n",
    "        self.priors = (df.groupby('team_0')\n",
    "                         .agg({'winner': self.agg_func})\n",
    "                         .to_dict()['winner'])\n",
    "    \n",
    "    def predict(self, df):\n",
    "        cols = list(df.columns)\n",
    "        t0i = cols.index('team_0')\n",
    "        t1i = cols.index('team_1')\n",
    "        return [(0 if self.priors.get(df.iloc[i, t0i], 0.5) > self.priors.get(df.iloc[i, t1i], 0.5) else 1) \n",
    "                for i in range(len(df))]\n",
    "    \n",
    "    def get_params(self, *args, **kwargs):\n",
    "        return self.priors"
   ]
  },
  {
   "cell_type": "markdown",
   "metadata": {},
   "source": [
    "# Data"
   ]
  },
  {
   "cell_type": "code",
   "execution_count": 250,
   "metadata": {},
   "outputs": [],
   "source": [
    "df = json_to_dataframe(load('data/18.08-3.09.pkl'))\n",
    "\n",
    "df = df[df['picks_0'].apply(lambda s: s != ['', '', '', '', ''])].reset_index(drop=True)\n",
    "\n",
    "df = df[['location', 'team_0', 'team_1', 'country_0', 'country_1', 'winner']]"
   ]
  },
  {
   "cell_type": "code",
   "execution_count": 251,
   "metadata": {},
   "outputs": [],
   "source": [
    "locations = []\n",
    "teams0 = []\n",
    "teams1 = []\n",
    "cnts0 = []\n",
    "cnts1 = []\n",
    "winners = []\n",
    "\n",
    "for i in df.index:\n",
    "    locations.append( df.loc[i, 'location'] )\n",
    "    \n",
    "    teams0.append( df.loc[i, 'team_1'] )\n",
    "    teams1.append( df.loc[i, 'team_0'] )\n",
    "    \n",
    "    cnts0.append( df.loc[i, 'country_1'] )\n",
    "    cnts1.append( df.loc[i, 'country_0'] )\n",
    "    \n",
    "    winners.append( 1 - df.loc[i, 'winner'] )\n",
    "\n",
    "df_aug = pd.DataFrame(data={\n",
    "    'location': locations,\n",
    "    'team_0': teams0,\n",
    "    'team_1': teams1,\n",
    "    'country_0': cnts0,\n",
    "    'country_1': cnts1,\n",
    "    'winner': winners,\n",
    "})\n",
    "\n",
    "df = pd.concat([df, df_aug]).reset_index(drop=True)"
   ]
  },
  {
   "cell_type": "code",
   "execution_count": 260,
   "metadata": {},
   "outputs": [
    {
     "data": {
      "text/plain": [
       "location     0\n",
       "team_0       0\n",
       "team_1       0\n",
       "country_0    0\n",
       "country_1    0\n",
       "winner       0\n",
       "dtype: int64"
      ]
     },
     "execution_count": 260,
     "metadata": {},
     "output_type": "execute_result"
    }
   ],
   "source": [
    "df.isnull().sum()"
   ]
  },
  {
   "cell_type": "code",
   "execution_count": 261,
   "metadata": {},
   "outputs": [
    {
     "data": {
      "text/plain": [
       "'unk'"
      ]
     },
     "execution_count": 261,
     "metadata": {},
     "output_type": "execute_result"
    }
   ],
   "source": [
    "df.loc[55, 'team_1']"
   ]
  },
  {
   "cell_type": "code",
   "execution_count": 263,
   "metadata": {},
   "outputs": [
    {
     "data": {
      "text/plain": [
       "2"
      ]
     },
     "execution_count": 263,
     "metadata": {},
     "output_type": "execute_result"
    }
   ],
   "source": [
    "(df['team_0'] == 'unk').sum() + (df['team_1'] == 'unk').sum()"
   ]
  },
  {
   "cell_type": "code",
   "execution_count": 252,
   "metadata": {},
   "outputs": [
    {
     "data": {
      "text/plain": [
       "(918, 6)"
      ]
     },
     "execution_count": 252,
     "metadata": {},
     "output_type": "execute_result"
    }
   ],
   "source": [
    "df.shape"
   ]
  },
  {
   "cell_type": "markdown",
   "metadata": {},
   "source": [
    "---"
   ]
  },
  {
   "cell_type": "markdown",
   "metadata": {},
   "source": [
    "# Dumb baseline"
   ]
  },
  {
   "cell_type": "code",
   "execution_count": 267,
   "metadata": {},
   "outputs": [],
   "source": [
    "from sklearn.linear_model import LogisticRegression\n",
    "from sklearn.ensemble import RandomForestClassifier\n",
    "\n",
    "from sklearn.model_selection import StratifiedKFold\n",
    "\n",
    "from sklearn.preprocessing import LabelEncoder, LabelBinarizer"
   ]
  },
  {
   "cell_type": "code",
   "execution_count": 268,
   "metadata": {},
   "outputs": [],
   "source": [
    "import numpy as np"
   ]
  },
  {
   "cell_type": "code",
   "execution_count": 269,
   "metadata": {},
   "outputs": [
    {
     "name": "stdout",
     "output_type": "stream",
     "text": [
      "Train: 0.793; Valid: 0.663\n",
      "Train: 0.809; Valid: 0.587\n",
      "Train: 0.803; Valid: 0.565\n",
      "Train: 0.799; Valid: 0.587\n",
      "Train: 0.810; Valid: 0.543\n",
      "Train: 0.803; Valid: 0.565\n",
      "Train: 0.792; Valid: 0.707\n",
      "Train: 0.806; Valid: 0.630\n",
      "Train: 0.798; Valid: 0.615\n",
      "Train: 0.802; Valid: 0.637\n"
     ]
    }
   ],
   "source": [
    "skf = StratifiedKFold(10, shuffle=True, random_state=123)\n",
    "\n",
    "feats = ['location','team_0','team_1','country_0','country_1','winner']\n",
    "cols_to_encode = [x for x in feats if x != 'winner']\n",
    "\n",
    "for idx_train, idx_valid in skf.split(df[feats], df['winner']):\n",
    "    \n",
    "    X_train, X_valid = df[feats].loc[idx_train], df[feats].loc[idx_valid]\n",
    "    y_train, y_valid = df['winner'].loc[idx_train], df['winner'].loc[idx_valid]\n",
    "    \n",
    "    \n",
    "    # 1. Label Binarizing\n",
    "    \n",
    "#     arrs_train = []\n",
    "#     arrs_valid = []\n",
    "#     for col in cols_to_encode:\n",
    "        \n",
    "#         label = LabelBinarizer()\n",
    "        \n",
    "#         arr_train = label.fit_transform(X_train[col])\n",
    "#         arr_valid = label.transform(X_valid[col])\n",
    "        \n",
    "#         arrs_train.append(arr_train)\n",
    "#         arrs_valid.append(arr_valid)\n",
    "    \n",
    "#     new_X_train = np.concatenate(arrs_train, axis=1)\n",
    "#     new_X_valid = np.concatenate(arrs_valid, axis=1)\n",
    "\n",
    "#     clf = LogisticRegression()\n",
    "#     clf.fit(new_X_train, y_train)\n",
    "#     y_train_hat = clf.predict(new_X_train)\n",
    "#     y_valid_hat = clf.predict(new_X_valid)\n",
    "    \n",
    "    \n",
    "    # 2. Mean Target Encoding\n",
    "    \n",
    "    for col in cols_to_encode:\n",
    "        priors = (X_train.groupby(col)\n",
    "                         .agg({'winner': damped_mean})\n",
    "                         .to_dict()['winner'])\n",
    "        X_train[col] = X_train[col].map(priors)\n",
    "        X_valid[col] = X_valid[col].map(priors)\n",
    "        X_train[col] = X_train[col].fillna(0.5)\n",
    "        X_valid[col] = X_valid[col].fillna(0.5)\n",
    "        \n",
    "    X_train.drop('winner', axis=1, inplace=True)\n",
    "    X_valid.drop('winner', axis=1, inplace=True)\n",
    "    \n",
    "    \n",
    "    clf = RandomForestClassifier(n_estimators=40)\n",
    "    clf.fit(X_train, y_train)\n",
    "    y_train_hat = clf.predict(X_train)\n",
    "    y_valid_hat = clf.predict(X_valid)\n",
    "    \n",
    "    print(f'Train: {accuracy_score(y_train, y_train_hat):.3f}; Valid: {accuracy_score(y_valid, y_valid_hat):.3f}' )\n"
   ]
  },
  {
   "cell_type": "code",
   "execution_count": null,
   "metadata": {},
   "outputs": [],
   "source": []
  }
 ],
 "metadata": {
  "kernelspec": {
   "display_name": "Python 3",
   "language": "python",
   "name": "python3"
  },
  "language_info": {
   "codemirror_mode": {
    "name": "ipython",
    "version": 3
   },
   "file_extension": ".py",
   "mimetype": "text/x-python",
   "name": "python",
   "nbconvert_exporter": "python",
   "pygments_lexer": "ipython3",
   "version": "3.7.4"
  }
 },
 "nbformat": 4,
 "nbformat_minor": 4
}
