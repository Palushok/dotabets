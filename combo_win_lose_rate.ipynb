{
 "cells": [
  {
   "cell_type": "code",
   "execution_count": 2,
   "id": "ebd1ab7c",
   "metadata": {},
   "outputs": [],
   "source": [
    "from dota.parse import get_response\n",
    "from dota.persistence import load, save\n",
    "from dota.data import json_to_dataframe, default_name\n",
    "\n",
    "import bs4\n",
    "import numpy as np\n",
    "import pandas as pd\n",
    "import time\n",
    "\n",
    "from sklearn.metrics import accuracy_score"
   ]
  },
  {
   "cell_type": "code",
   "execution_count": 3,
   "id": "03ed4928",
   "metadata": {},
   "outputs": [],
   "source": [
    "with open('data/heroes.txt', 'r') as f:\n",
    "    all_heroes = f.read().split(\"\\n\")\n",
    "    all_heroes.remove('')"
   ]
  },
  {
   "cell_type": "raw",
   "id": "8adc42da",
   "metadata": {},
   "source": [
    "def get_hero_diff(page):\n",
    "    diffs = {}\n",
    "    some_tags = page.find_all('div', class_=\"bar bar-default\")\n",
    "    for tag in some_tags:\n",
    "        tds = tag.find_parent().find_parent().find_all('td')\n",
    "        diff = float(tds[2].text[:-1])\n",
    "        hero = tds[1].text\n",
    "        diffs[hero] = diff\n",
    "    return diffs\n",
    "\n",
    "def get_diff(hero):\n",
    "    hero_diffs = {}\n",
    "    hero = default_name(hero)\n",
    "    res = get_response(f'https://ru.dotabuff.com/heroes/{hero}/counters')\n",
    "    soup = bs4.BeautifulSoup(res.text)\n",
    "    diffs = get_hero_diff(soup)\n",
    "    for name, diff in diffs.items():\n",
    "        name = default_name(name)\n",
    "        hero_diffs[name] = diff\n",
    "    return hero_diffs\n",
    "\n",
    "\n",
    "hero_rates = {}\n",
    "for hero in sorted(all_heroes):\n",
    "    hero_rates[default_name(hero)] = get_diff(hero)\n",
    "    \n",
    "save(hero_rates, 'data/hero_diffs.pkl')"
   ]
  },
  {
   "cell_type": "code",
   "execution_count": null,
   "id": "31b71b53",
   "metadata": {},
   "outputs": [],
   "source": [
    "hero_rates = load('data/hero_diffs.pkl')"
   ]
  },
  {
   "cell_type": "code",
   "execution_count": 7,
   "id": "13cf42cd",
   "metadata": {},
   "outputs": [],
   "source": [
    "data = load('data/18.08-3.09_lower.pkl')\n",
    "df = json_to_dataframe(data)\n",
    "df = df[['picks_0', 'picks_1', 'winner']]"
   ]
  },
  {
   "cell_type": "code",
   "execution_count": 19,
   "id": "e131fc61",
   "metadata": {},
   "outputs": [],
   "source": [
    "X = []\n",
    "for i, row in df.iterrows():\n",
    "    winner = row['winner']\n",
    "    vector = []\n",
    "    for pick in row['picks_0']:\n",
    "        pick = default_name(pick)\n",
    "        for pick_2 in row['picks_1']:\n",
    "            pick_2 = default_name(pick_2)\n",
    "            vector.append(hero_rates[pick][pick_2])\n",
    "    X.append(vector)"
   ]
  },
  {
   "cell_type": "code",
   "execution_count": null,
   "id": "cb111205",
   "metadata": {},
   "outputs": [],
   "source": []
  },
  {
   "cell_type": "code",
   "execution_count": 29,
   "id": "6f1de9d4",
   "metadata": {},
   "outputs": [
    {
     "name": "stderr",
     "output_type": "stream",
     "text": [
      "/home/dpaluhin/.local/lib/python3.8/site-packages/xgboost/sklearn.py:1146: UserWarning: The use of label encoder in XGBClassifier is deprecated and will be removed in a future release. To remove this warning, do the following: 1) Pass option use_label_encoder=False when constructing XGBClassifier object; and 2) Encode your labels (y) as integers starting with 0, i.e. 0, 1, 2, ..., [num_class - 1].\n",
      "  warnings.warn(label_encoder_deprecation_msg, UserWarning)\n",
      "/home/dpaluhin/.local/lib/python3.8/site-packages/xgboost/sklearn.py:1146: UserWarning: The use of label encoder in XGBClassifier is deprecated and will be removed in a future release. To remove this warning, do the following: 1) Pass option use_label_encoder=False when constructing XGBClassifier object; and 2) Encode your labels (y) as integers starting with 0, i.e. 0, 1, 2, ..., [num_class - 1].\n",
      "  warnings.warn(label_encoder_deprecation_msg, UserWarning)\n",
      "/home/dpaluhin/.local/lib/python3.8/site-packages/xgboost/sklearn.py:1146: UserWarning: The use of label encoder in XGBClassifier is deprecated and will be removed in a future release. To remove this warning, do the following: 1) Pass option use_label_encoder=False when constructing XGBClassifier object; and 2) Encode your labels (y) as integers starting with 0, i.e. 0, 1, 2, ..., [num_class - 1].\n",
      "  warnings.warn(label_encoder_deprecation_msg, UserWarning)\n",
      "/home/dpaluhin/.local/lib/python3.8/site-packages/xgboost/sklearn.py:1146: UserWarning: The use of label encoder in XGBClassifier is deprecated and will be removed in a future release. To remove this warning, do the following: 1) Pass option use_label_encoder=False when constructing XGBClassifier object; and 2) Encode your labels (y) as integers starting with 0, i.e. 0, 1, 2, ..., [num_class - 1].\n",
      "  warnings.warn(label_encoder_deprecation_msg, UserWarning)\n",
      "/home/dpaluhin/.local/lib/python3.8/site-packages/xgboost/sklearn.py:1146: UserWarning: The use of label encoder in XGBClassifier is deprecated and will be removed in a future release. To remove this warning, do the following: 1) Pass option use_label_encoder=False when constructing XGBClassifier object; and 2) Encode your labels (y) as integers starting with 0, i.e. 0, 1, 2, ..., [num_class - 1].\n",
      "  warnings.warn(label_encoder_deprecation_msg, UserWarning)\n"
     ]
    },
    {
     "name": "stdout",
     "output_type": "stream",
     "text": [
      "[01:30:46] WARNING: ../src/learner.cc:1095: Starting in XGBoost 1.3.0, the default evaluation metric used with the objective 'binary:logistic' was changed from 'error' to 'logloss'. Explicitly set eval_metric if you'd like to restore the old behavior.\n",
      "[01:30:46] WARNING: ../src/learner.cc:1095: Starting in XGBoost 1.3.0, the default evaluation metric used with the objective 'binary:logistic' was changed from 'error' to 'logloss'. Explicitly set eval_metric if you'd like to restore the old behavior.\n",
      "[01:30:46] WARNING: ../src/learner.cc:1095: Starting in XGBoost 1.3.0, the default evaluation metric used with the objective 'binary:logistic' was changed from 'error' to 'logloss'. Explicitly set eval_metric if you'd like to restore the old behavior.\n",
      "[01:30:46] WARNING: ../src/learner.cc:1095: Starting in XGBoost 1.3.0, the default evaluation metric used with the objective 'binary:logistic' was changed from 'error' to 'logloss'. Explicitly set eval_metric if you'd like to restore the old behavior.\n",
      "[01:30:46] WARNING: ../src/learner.cc:1095: Starting in XGBoost 1.3.0, the default evaluation metric used with the objective 'binary:logistic' was changed from 'error' to 'logloss'. Explicitly set eval_metric if you'd like to restore the old behavior.\n"
     ]
    },
    {
     "data": {
      "text/plain": [
       "array([0.48913043, 0.55434783, 0.42391304, 0.40217391, 0.56043956])"
      ]
     },
     "execution_count": 29,
     "metadata": {},
     "output_type": "execute_result"
    }
   ],
   "source": [
    "import xgboost as xgb\n",
    "from sklearn.model_selection import cross_val_score\n",
    "import pandas as pd\n",
    "import numpy as np\n",
    "\n",
    "cross_val_score(estimator=xgb.XGBClassifier(), X=pd.DataFrame(X), y=y,\n",
    "                cv=5, scoring='accuracy')"
   ]
  },
  {
   "cell_type": "code",
   "execution_count": null,
   "id": "704353d5",
   "metadata": {},
   "outputs": [],
   "source": []
  },
  {
   "cell_type": "markdown",
   "id": "ba0a13e4",
   "metadata": {},
   "source": [
    "#### А если просуммировать, и просто глянуть, насколько велика разница? "
   ]
  },
  {
   "cell_type": "code",
   "execution_count": 24,
   "id": "71e24dc3",
   "metadata": {},
   "outputs": [],
   "source": [
    "X = np.array(X)"
   ]
  },
  {
   "cell_type": "code",
   "execution_count": 21,
   "id": "4c54ea4b",
   "metadata": {},
   "outputs": [],
   "source": [
    "y = df['winner']"
   ]
  },
  {
   "cell_type": "code",
   "execution_count": 163,
   "id": "81fa365a",
   "metadata": {},
   "outputs": [],
   "source": [
    "indexes_we_sure = [i for i, x in enumerate(abs(np.array(X).mean(axis=1)) > 0.24) if x]"
   ]
  },
  {
   "cell_type": "code",
   "execution_count": 164,
   "id": "d2e9f84c",
   "metadata": {},
   "outputs": [
    {
     "data": {
      "text/plain": [
       "115"
      ]
     },
     "execution_count": 164,
     "metadata": {},
     "output_type": "execute_result"
    }
   ],
   "source": [
    "len(indexes_we_sure)"
   ]
  },
  {
   "cell_type": "code",
   "execution_count": 165,
   "id": "04b44441",
   "metadata": {
    "scrolled": true
   },
   "outputs": [
    {
     "data": {
      "text/plain": [
       "0.6086956521739131"
      ]
     },
     "execution_count": 165,
     "metadata": {},
     "output_type": "execute_result"
    }
   ],
   "source": [
    "accuracy_score(y[indexes_we_sure], (X[indexes_we_sure].sum(axis=1) > 0).astype(int))"
   ]
  }
 ],
 "metadata": {
  "kernelspec": {
   "display_name": "Python 3 (ipykernel)",
   "language": "python",
   "name": "python3"
  },
  "language_info": {
   "codemirror_mode": {
    "name": "ipython",
    "version": 3
   },
   "file_extension": ".py",
   "mimetype": "text/x-python",
   "name": "python",
   "nbconvert_exporter": "python",
   "pygments_lexer": "ipython3",
   "version": "3.8.5"
  }
 },
 "nbformat": 4,
 "nbformat_minor": 5
}
